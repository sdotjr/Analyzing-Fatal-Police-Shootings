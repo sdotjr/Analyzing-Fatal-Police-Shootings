{
 "cells": [
  {
   "cell_type": "code",
   "execution_count": null,
   "metadata": {},
   "outputs": [],
   "source": [
    "import numpy as np\n",
    "import pandas as pd\n",
    "import seaborn as sns\n",
    "from datetime import datetime\n",
    "from geopy.geocoders import Nominatim\n",
    "from geopy.extra.rate_limiter import RateLimiter\n",
    "import folium\n",
    "import math\n",
    "import matplotlib.pyplot as plt\n",
    "import plotly.figure_factory as ff\n",
    "from src import helper_functions as hlp\n",
    "import censusdata\n",
    "pd.set_option('display.expand_frame_repr', False)\n",
    "pd.set_option('display.precision', 2)\n",
    "import statsmodels.formula.api as sm\n",
    "from folium.plugins import HeatMap\n",
    "pd.set_option('display.max_columns', 59)\n",
    "\n",
    "# folium heat map (done)\n",
    "# more shootings per capita // regions (imported census data 2017)\n",
    "# predict # of people killed, by state, region, poverty (thurs)\n",
    "# regression model (thurs)\n",
    "# population of area (rural or urban) compare/contrast (wed)"
   ]
  },
  {
   "cell_type": "code",
   "execution_count": null,
   "metadata": {},
   "outputs": [],
   "source": [
    "#read csv\n",
    "data = pd.read_csv('data/fatal-police-shootings-data.csv')\n",
    "data"
   ]
  },
  {
   "cell_type": "code",
   "execution_count": null,
   "metadata": {},
   "outputs": [],
   "source": [
    "data.age.max()"
   ]
  },
  {
   "cell_type": "markdown",
   "metadata": {},
   "source": [
    "## Cleaning Data"
   ]
  },
  {
   "cell_type": "code",
   "execution_count": null,
   "metadata": {},
   "outputs": [],
   "source": [
    "#check null values\n",
    "hlp.assess_NA(data)"
   ]
  },
  {
   "cell_type": "code",
   "execution_count": null,
   "metadata": {},
   "outputs": [],
   "source": [
    "#replace null values\n",
    "data['race'] = data['race'].fillna('NR')\n",
    "data['flee'] = data['flee'].fillna('Not Reported')\n",
    "data['age'] = data['age'].fillna(data.age.mean())\n",
    "data['armed'] = data['armed'].fillna('not reported')\n",
    "data['name'] = data['name'].fillna('No Name')"
   ]
  },
  {
   "cell_type": "code",
   "execution_count": null,
   "metadata": {},
   "outputs": [],
   "source": [
    "hlp.assess_NA(data)"
   ]
  },
  {
   "cell_type": "code",
   "execution_count": null,
   "metadata": {},
   "outputs": [],
   "source": [
    "data.dtypes"
   ]
  },
  {
   "cell_type": "code",
   "execution_count": null,
   "metadata": {},
   "outputs": [],
   "source": [
    "data.date = pd.to_datetime(data.date)"
   ]
  },
  {
   "cell_type": "code",
   "execution_count": null,
   "metadata": {},
   "outputs": [],
   "source": [
    "data.dtypes"
   ]
  },
  {
   "cell_type": "code",
   "execution_count": null,
   "metadata": {},
   "outputs": [],
   "source": [
    "data['age'].min()"
   ]
  },
  {
   "cell_type": "code",
   "execution_count": null,
   "metadata": {},
   "outputs": [],
   "source": [
    "#create new series with city and state to get coordinates for every point\n",
    "new = data['state'].copy()\n",
    "data[\"location\"] = data[\"city\"].str.cat(new, sep =\", \")\n",
    "data"
   ]
  },
  {
   "cell_type": "code",
   "execution_count": null,
   "metadata": {},
   "outputs": [],
   "source": [
    "#get county from city, state\n",
    "locator = Nominatim(user_agent='myGeocoder')\n",
    "location = locator.geocode(data.location[100])\n",
    "location[0].split(', ')[1]\n",
    "location"
   ]
  },
  {
   "cell_type": "code",
   "execution_count": null,
   "metadata": {},
   "outputs": [],
   "source": [
    "data['location'] = data['location'].str.replace('CA', 'California', regex=False)"
   ]
  },
  {
   "cell_type": "code",
   "execution_count": null,
   "metadata": {},
   "outputs": [],
   "source": [
    "data['location'] = data['location'].str.replace('AR', 'Arkansas', regex=False)\n",
    "data['location'] = data['location'].str.replace('OH', 'Ohio', regex=False)\n",
    "data['location'] = data['location'].str.replace('CO', 'Colorado', regex=False)\n",
    "data['location'] = data['location'].str.replace('LA', 'Louisiana', regex=False)\n",
    "data['location'] = data['location'].str.replace('ME', 'Maine', regex=False)\n",
    "data['location'] = data['location'].str.replace('Harrison Township', 'Dayton', regex=False)\n",
    "data.location[2928] = 'East Ridge, TN'"
   ]
  },
  {
   "cell_type": "code",
   "execution_count": null,
   "metadata": {},
   "outputs": [],
   "source": [
    "data.location[4958] = \"Powhatan Point, OH\""
   ]
  },
  {
   "cell_type": "code",
   "execution_count": null,
   "metadata": {},
   "outputs": [],
   "source": [
    "# 1 - convinient function to delay between geocoding calls\n",
    "geocode = RateLimiter(locator.geocode, min_delay_seconds=1)\n",
    "\n",
    "geolocator = Nominatim(user_agent='Geo')"
   ]
  },
  {
   "cell_type": "code",
   "execution_count": null,
   "metadata": {
    "scrolled": true
   },
   "outputs": [],
   "source": [
    "#fill latitude and longitude na\n",
    "for i in range(5716):\n",
    "    #print(i)\n",
    "    if math.isnan(data.latitude[i]):\n",
    "        point = geolocator.geocode(data[\"location\"][i])[1]\n",
    "        data.latitude[i] = point[0]\n",
    "        data.longitude[i] = point[1]"
   ]
  },
  {
   "cell_type": "code",
   "execution_count": null,
   "metadata": {},
   "outputs": [],
   "source": [
    "point = geolocator.geocode(\"Dayton, Ohio\")\n",
    "point[1]\n",
    "\n",
    "data.latitude[5117] = point[1][0]\n",
    "data.longitude[5117] = point[1][1]\n",
    "data.iloc[5117]"
   ]
  },
  {
   "cell_type": "markdown",
   "metadata": {},
   "source": [
    "## Generating Maps"
   ]
  },
  {
   "cell_type": "code",
   "execution_count": null,
   "metadata": {},
   "outputs": [],
   "source": [
    "#heatmap\n",
    "def generateBaseMap(default_location=[37.0902, -95.7129], default_zoom_start=4.5):\n",
    "    base_map = folium.Map(location=default_location, control_scale=True, zoom_start=default_zoom_start)\n",
    "    return base_map"
   ]
  },
  {
   "cell_type": "code",
   "execution_count": null,
   "metadata": {},
   "outputs": [],
   "source": [
    "#heatmap\n",
    "data_copy = shootings_final.copy()\n",
    "data_copy['count'] = 1\n",
    "base_map = generateBaseMap()\n",
    "HeatMap(data=data_copy[['latitude', 'longitude', 'count']].groupby(['latitude', 'longitude']).sum().reset_index().values.tolist(), radius=15, max_zoom=12).add_to(base_map)\n",
    "base_map"
   ]
  },
  {
   "cell_type": "code",
   "execution_count": null,
   "metadata": {},
   "outputs": [],
   "source": [
    "#US coordinates\n",
    "m = folium.Map(location=[37.0902, -95.7129],zoom_start=4)\n",
    "#tooltip = 'Click me!'\n",
    "for i in range(5716):\n",
    "        if data.gender[i] == 'M':\n",
    "            folium.CircleMarker([data.latitude[i], data.longitude[i]], popup=f'<i>{data.location[i]}</i>',radius = 2,color = 'blue').add_to(m)\n",
    "        else:\n",
    "            folium.CircleMarker([data.latitude[i], data.longitude[i]], popup=f'<i>{i}</i>',radius = 2,color = 'red').add_to(m)\n",
    "\n",
    "m"
   ]
  },
  {
   "cell_type": "code",
   "execution_count": null,
   "metadata": {},
   "outputs": [],
   "source": [
    "data.iloc[4958]"
   ]
  },
  {
   "cell_type": "code",
   "execution_count": null,
   "metadata": {},
   "outputs": [],
   "source": [
    "geolocator = Nominatim(user_agent=\"cop_shooting\")\n",
    "location = geolocator.reverse(f\"{data['latitude'][0]},{data['longitude'][0]}\")\n",
    "location.raw"
   ]
  },
  {
   "cell_type": "code",
   "execution_count": null,
   "metadata": {},
   "outputs": [],
   "source": [
    "data.age.mean()"
   ]
  },
  {
   "cell_type": "code",
   "execution_count": null,
   "metadata": {},
   "outputs": [],
   "source": [
    "data.age.min()"
   ]
  },
  {
   "cell_type": "code",
   "execution_count": null,
   "metadata": {},
   "outputs": [],
   "source": [
    "data.age.max()"
   ]
  },
  {
   "cell_type": "code",
   "execution_count": null,
   "metadata": {},
   "outputs": [],
   "source": [
    "data.dtypes"
   ]
  },
  {
   "cell_type": "code",
   "execution_count": null,
   "metadata": {},
   "outputs": [],
   "source": [
    "data.date = pd.to_datetime(data['date'])"
   ]
  },
  {
   "cell_type": "code",
   "execution_count": null,
   "metadata": {},
   "outputs": [],
   "source": [
    "data.dtypes"
   ]
  },
  {
   "cell_type": "code",
   "execution_count": null,
   "metadata": {},
   "outputs": [],
   "source": [
    "data"
   ]
  },
  {
   "cell_type": "code",
   "execution_count": null,
   "metadata": {},
   "outputs": [],
   "source": [
    "plt.hist(data.date,bins=6)"
   ]
  },
  {
   "cell_type": "code",
   "execution_count": null,
   "metadata": {},
   "outputs": [],
   "source": [
    "census = pd.read_csv('data/acs2017_county_data.csv')\n",
    "census.CountyId = census['CountyId'].astype(str)"
   ]
  },
  {
   "cell_type": "code",
   "execution_count": null,
   "metadata": {},
   "outputs": [],
   "source": [
    "census.dtypes"
   ]
  },
  {
   "cell_type": "code",
   "execution_count": null,
   "metadata": {},
   "outputs": [],
   "source": [
    "census[(census.values.ravel() == county).reshape(census.shape).any(1)]\n"
   ]
  },
  {
   "cell_type": "code",
   "execution_count": null,
   "metadata": {},
   "outputs": [],
   "source": [
    "#get state name\n",
    "\n",
    "def full_state(code):\n",
    "        states = {\n",
    "        'AK': 'Alaska',\n",
    "        'AL': 'Alabama',\n",
    "        'AR': 'Arkansas',\n",
    "        'AS': 'American Samoa',\n",
    "        'AZ': 'Arizona',\n",
    "        'CA': 'California',\n",
    "        'CO': 'Colorado',\n",
    "        'CT': 'Connecticut',\n",
    "        'DC': 'District of Columbia',\n",
    "        'DE': 'Delaware',\n",
    "        'FL': 'Florida',\n",
    "        'GA': 'Georgia',\n",
    "        'GU': 'Guam',\n",
    "        'HI': 'Hawaii',\n",
    "        'IA': 'Iowa',\n",
    "        'ID': 'Idaho',\n",
    "        'IL': 'Illinois',\n",
    "        'IN': 'Indiana',\n",
    "        'KS': 'Kansas',\n",
    "        'KY': 'Kentucky',\n",
    "        'LA': 'Louisiana',\n",
    "        'MA': 'Massachusetts',\n",
    "        'MD': 'Maryland',\n",
    "        'ME': 'Maine',\n",
    "        'MI': 'Michigan',\n",
    "        'MN': 'Minnesota',\n",
    "        'MO': 'Missouri',\n",
    "        'MP': 'Northern Mariana Islands',\n",
    "        'MS': 'Mississippi',\n",
    "        'MT': 'Montana',\n",
    "        'NA': 'National',\n",
    "        'NC': 'North Carolina',\n",
    "        'ND': 'North Dakota',\n",
    "        'NE': 'Nebraska',\n",
    "        'NH': 'New Hampshire',\n",
    "        'NJ': 'New Jersey',\n",
    "        'NM': 'New Mexico',\n",
    "        'NV': 'Nevada',\n",
    "        'NY': 'New York',\n",
    "        'OH': 'Ohio',\n",
    "        'OK': 'Oklahoma',\n",
    "        'OR': 'Oregon',\n",
    "        'PA': 'Pennsylvania',\n",
    "        'PR': 'Puerto Rico',\n",
    "        'RI': 'Rhode Island',\n",
    "        'SC': 'South Carolina',\n",
    "        'SD': 'South Dakota',\n",
    "        'TN': 'Tennessee',\n",
    "        'TX': 'Texas',\n",
    "        'UT': 'Utah',\n",
    "        'VA': 'Virginia',\n",
    "        'VI': 'Virgin Islands',\n",
    "        'VT': 'Vermont',\n",
    "        'WA': 'Washington',\n",
    "        'WI': 'Wisconsin',\n",
    "        'WV': 'West Virginia',\n",
    "        'WY': 'Wyoming'\n",
    "}\n",
    "        if code in states:\n",
    "            return states[code]\n",
    "        else:\n",
    "            return code"
   ]
  },
  {
   "cell_type": "code",
   "execution_count": null,
   "metadata": {},
   "outputs": [],
   "source": [
    "data['state_name'] = data['state'].apply(full_state)"
   ]
  },
  {
   "cell_type": "code",
   "execution_count": null,
   "metadata": {},
   "outputs": [],
   "source": [
    "data"
   ]
  },
  {
   "cell_type": "code",
   "execution_count": null,
   "metadata": {},
   "outputs": [],
   "source": [
    "#get county\n",
    "locator = Nominatim(user_agent='tester')\n",
    "coordinates = f'{data.latitude[0]}, {data.longitude[0]}'\n",
    "location = locator.reverse(coordinates)\n",
    "county = location.raw.get('address').get('county')\n",
    "data"
   ]
  },
  {
   "cell_type": "code",
   "execution_count": null,
   "metadata": {},
   "outputs": [],
   "source": [
    "data = data.drop('county',axis=1)"
   ]
  },
  {
   "cell_type": "code",
   "execution_count": null,
   "metadata": {
    "scrolled": true
   },
   "outputs": [],
   "source": [
    "#coordinates to strings\n",
    "\n",
    "data['coordinates'] = data['latitude'].round(2).copy().astype(str)\n",
    "new = data['longitude'].round(2).copy().astype(str)\n",
    "data['coordinates'] = data[\"coordinates\"].str.cat(new, sep =\", \")\n",
    "data"
   ]
  },
  {
   "cell_type": "code",
   "execution_count": null,
   "metadata": {},
   "outputs": [],
   "source": [
    "#get county\n",
    "def get_county(coordinates):\n",
    "    location = locator.reverse(coordinates)\n",
    "    return location.raw.get('address').get('county')"
   ]
  },
  {
   "cell_type": "code",
   "execution_count": null,
   "metadata": {},
   "outputs": [],
   "source": [
    "#data['county'] = data['coordinates'].apply(get_county)\n",
    "data"
   ]
  },
  {
   "cell_type": "code",
   "execution_count": null,
   "metadata": {
    "scrolled": true
   },
   "outputs": [],
   "source": [
    "data['county'] = data.city.copy()"
   ]
  },
  {
   "cell_type": "code",
   "execution_count": null,
   "metadata": {
    "scrolled": true
   },
   "outputs": [],
   "source": [
    "#add county\n",
    "for i in range(5716):\n",
    "    location = locator.reverse(data.coordinates[i])\n",
    "    county = location.raw.get('address').get('county')\n",
    "    data['county'][i] = county\n",
    "    print(i)\n",
    "    \n",
    "data"
   ]
  },
  {
   "cell_type": "code",
   "execution_count": null,
   "metadata": {},
   "outputs": [],
   "source": [
    "#lookup data on census table\n",
    "census[(census['State']=='California') & (census['County']=='San Francisco County')]"
   ]
  },
  {
   "cell_type": "code",
   "execution_count": null,
   "metadata": {},
   "outputs": [],
   "source": [
    "census['private/public_work_ratio'] = census['PrivateWork']/census['PublicWork']"
   ]
  },
  {
   "cell_type": "code",
   "execution_count": null,
   "metadata": {},
   "outputs": [],
   "source": [
    "census['private/public_work_ratio']"
   ]
  },
  {
   "cell_type": "code",
   "execution_count": null,
   "metadata": {},
   "outputs": [],
   "source": [
    "data.to_csv('data/shootings-with-county.csv')"
   ]
  },
  {
   "cell_type": "markdown",
   "metadata": {},
   "source": [
    "# Data with county"
   ]
  },
  {
   "cell_type": "code",
   "execution_count": null,
   "metadata": {},
   "outputs": [],
   "source": [
    "shootings = pd.read_csv('data/shootings-with-county.csv')"
   ]
  },
  {
   "cell_type": "code",
   "execution_count": null,
   "metadata": {},
   "outputs": [],
   "source": [
    "test = shootings.merge(census,left_on=['state_name','county'],right_on=['State','County'])\n",
    "test[['state_name','State','county','County','IncomePerCap']].head()"
   ]
  },
  {
   "cell_type": "code",
   "execution_count": null,
   "metadata": {},
   "outputs": [],
   "source": [
    "#populationpercounty\n",
    "#groupbystate,county\n",
    "#heatmapbypopulation"
   ]
  },
  {
   "cell_type": "code",
   "execution_count": null,
   "metadata": {},
   "outputs": [],
   "source": [
    "test.head()"
   ]
  },
  {
   "cell_type": "code",
   "execution_count": null,
   "metadata": {},
   "outputs": [],
   "source": [
    "test.groupby(['State','County']).count()"
   ]
  },
  {
   "cell_type": "code",
   "execution_count": null,
   "metadata": {},
   "outputs": [],
   "source": [
    "test = test.rename(columns={\"Unnamed: 0\": \"count\"})\n",
    "test['count'] = 1\n",
    "test"
   ]
  },
  {
   "cell_type": "code",
   "execution_count": null,
   "metadata": {},
   "outputs": [],
   "source": [
    "test.groupby(['State','County']).count()"
   ]
  },
  {
   "cell_type": "code",
   "execution_count": null,
   "metadata": {},
   "outputs": [],
   "source": [
    "shootings_final = test"
   ]
  },
  {
   "cell_type": "markdown",
   "metadata": {},
   "source": [
    "# Graphs"
   ]
  },
  {
   "cell_type": "code",
   "execution_count": null,
   "metadata": {},
   "outputs": [],
   "source": [
    "sns.set_style(\"white\")\n",
    "plt.figure(figsize=(15,5))\n",
    "sns.countplot(data=shootings_final, x='race')\n",
    "\n",
    "plt.title(\"Total number of people killed, by race\", fontsize=17)\n",
    "handles = [\"A\", \"W\", \"B\", \"NR\", \"H\", \"N\", \"O\"]\n",
    "labels = [\"Asian\", \"While\", \"Black\", \"Not Reported\", \"Hispanic\", \"Native\", \"Other\"]\n",
    "\n",
    "\n",
    "\n",
    "plt.savefig('shootingsbyrace.png')"
   ]
  },
  {
   "cell_type": "code",
   "execution_count": null,
   "metadata": {},
   "outputs": [],
   "source": [
    "shootings_final.groupby('race').count()"
   ]
  },
  {
   "cell_type": "code",
   "execution_count": null,
   "metadata": {},
   "outputs": [],
   "source": [
    "prop_killed_per_race = [87/14674252.0,1160/38929319.0,926/50477594,71/2932248,2467/223553265,40/22579629]\n",
    "x = ['A','B','H','N','W','O']\n",
    "fig, ax = plt.subplots(figsize=(12,8))\n",
    "plt.bar(x,prop_killed_per_race, color=['tab:blue','tab:green','tab:purple','tab:brown','tab:orange','tab:pink'])\n",
    "plt.title('People killed in proportion to race population',size=18)\n",
    "plt.savefig('raceproportion.png')"
   ]
  },
  {
   "cell_type": "code",
   "execution_count": null,
   "metadata": {},
   "outputs": [],
   "source": [
    "for i in shootings_final.groupby('race').count()['count']:\n",
    "    print(i)"
   ]
  },
  {
   "cell_type": "code",
   "execution_count": null,
   "metadata": {},
   "outputs": [],
   "source": [
    "fig, ax = plt.subplots(figsize=(14,8))\n",
    "prop_iter = iter(plt.rcParams['axes.prop_cycle'])\n",
    "                 \n",
    "plt.bar(shootings_final.groupby('race').sum().index,shootings_final.groupby('race').sum()['count'],color=next(prop_iter)['color'])\n",
    "plt.legend()"
   ]
  },
  {
   "cell_type": "code",
   "execution_count": null,
   "metadata": {},
   "outputs": [],
   "source": [
    "df.groupby(['flee','race'])['id'].count()"
   ]
  },
  {
   "cell_type": "code",
   "execution_count": null,
   "metadata": {},
   "outputs": [],
   "source": [
    "\n",
    "df.groupby(['signs_of_mental_illness','race'])['id'].count().unstack('signs_of_mental_illness').plot.bar(figsize=(12,5))\n",
    "plt.title('Reported Signs of Mental Illness, by race',size=15)\n",
    "plt.savefig('mentalstats.png')"
   ]
  },
  {
   "cell_type": "code",
   "execution_count": null,
   "metadata": {},
   "outputs": [],
   "source": [
    "shootings_final.groupby(['year','body_camera'])['id'].count().unstack('body_camera').plot.bar(figsize=(12,5),color=['tab:green','tab:purple'])\n",
    "plt.title(\"Body Camera, by year\", size = 16)\n",
    "plt.savefig('bodycamera.png')"
   ]
  },
  {
   "cell_type": "code",
   "execution_count": null,
   "metadata": {},
   "outputs": [],
   "source": [
    "shootings_final.loc[shootings_final['name'] == 'Breonna Taylor']"
   ]
  },
  {
   "cell_type": "code",
   "execution_count": null,
   "metadata": {},
   "outputs": [],
   "source": [
    "shootings_final.mean()"
   ]
  },
  {
   "cell_type": "code",
   "execution_count": null,
   "metadata": {},
   "outputs": [],
   "source": [
    "\n",
    "plt.figure(figsize=(15,5))\n",
    "sns.color_palette(\"Paired\")\n",
    "sns.countplot(data=shootings_final, x='state')\n",
    "\n",
    "plt.title(\"Total number of people killed, by state\", fontsize=17)\n",
    "plt.savefig('Shootingsbystate.png')"
   ]
  },
  {
   "cell_type": "code",
   "execution_count": null,
   "metadata": {},
   "outputs": [],
   "source": [
    "#shootings per population\n",
    "counties_pop = shootings_final.groupby(['CountyId']).mean()['TotalPop']\n",
    "counties_count = shootings_final.groupby(['CountyId']).count()['count']\n",
    "counties_shootpc = counties_count/counties_pop\n",
    "counties_shootpc.sort_values(ascending=False).head(50)"
   ]
  },
  {
   "cell_type": "code",
   "execution_count": null,
   "metadata": {},
   "outputs": [],
   "source": [
    "counties_shootpc = pd.concat([counties_shootpc,shootings_final.groupby(['State','County']).mean()['IncomePerCap']],axis=1)"
   ]
  },
  {
   "cell_type": "code",
   "execution_count": null,
   "metadata": {},
   "outputs": [],
   "source": [
    "counties_shootpc.sort_values(0,ascending=False)"
   ]
  },
  {
   "cell_type": "code",
   "execution_count": null,
   "metadata": {},
   "outputs": [],
   "source": [
    "counties_shootpc = pd.concat([counties_shootpc,shootings_final.groupby(['State','County']).mean()['Poverty']],axis=1)\n",
    "counties_shootpc.groupby('State').mean().sort_values(0,ascending=False).head(50)"
   ]
  },
  {
   "cell_type": "code",
   "execution_count": null,
   "metadata": {},
   "outputs": [],
   "source": [
    "counties_shootpc = pd.concat([counties_shootpc,shootings_final.groupby(['State','County']).mean()['private/public_work_ratio']],axis=1)\n",
    "counties_shootpc.sort_values(0,ascending=False)"
   ]
  },
  {
   "cell_type": "code",
   "execution_count": null,
   "metadata": {},
   "outputs": [],
   "source": [
    "shootings_final.loc[(shootings_final['County'] == 'De Baca County') & (shootings_final['State'] == 'New Mexico')]"
   ]
  },
  {
   "cell_type": "code",
   "execution_count": null,
   "metadata": {},
   "outputs": [],
   "source": [
    "shootings_final.loc[shootings_final['County'] == 'Douglas County']"
   ]
  },
  {
   "cell_type": "markdown",
   "metadata": {},
   "source": [
    "# Get Fips Value for county map"
   ]
  },
  {
   "cell_type": "code",
   "execution_count": null,
   "metadata": {},
   "outputs": [],
   "source": [
    "shootings_final['CountyId']"
   ]
  },
  {
   "cell_type": "code",
   "execution_count": null,
   "metadata": {},
   "outputs": [],
   "source": [
    "fips = pd.read_csv('data/fips.csv', dtype=str)\n",
    "fips.index.astype(int)\n",
    "fips"
   ]
  },
  {
   "cell_type": "code",
   "execution_count": null,
   "metadata": {},
   "outputs": [],
   "source": [
    "test = shootings_final.merge(fips,left_on=['state','county'],right_on=['State','County'])\n",
    "test = test.drop(labels=['County_y','State_y','Name'],axis=1)\n",
    "test = test.drop(labels=['State_x','County_x'],axis=1)\n",
    "df = test\n",
    "df"
   ]
  },
  {
   "cell_type": "code",
   "execution_count": null,
   "metadata": {},
   "outputs": [],
   "source": [
    "df"
   ]
  },
  {
   "cell_type": "markdown",
   "metadata": {},
   "source": [
    "# Shootings per Capita (by County)"
   ]
  },
  {
   "cell_type": "code",
   "execution_count": null,
   "metadata": {},
   "outputs": [],
   "source": [
    "spc = (df.groupby(['state_name','county','FIPS']).count()['count']/df.groupby(['state_name','county','FIPS']).mean()['TotalPop'])\n",
    "spc = spc*100000\n",
    "spc"
   ]
  },
  {
   "cell_type": "code",
   "execution_count": null,
   "metadata": {},
   "outputs": [],
   "source": [
    "coords = df.groupby(['state_name','county','FIPS']).mean()[['longitude','latitude']]\n",
    "coords"
   ]
  },
  {
   "cell_type": "code",
   "execution_count": null,
   "metadata": {},
   "outputs": [],
   "source": [
    "spc_new = pd.concat([spc,coords], axis=1, join='outer', ignore_index=False, keys=None,\n",
    "          levels=None, names=None, verify_integrity=False, copy=True)\n",
    "spc_new.sort_values(0,ascending=False)"
   ]
  },
  {
   "cell_type": "code",
   "execution_count": null,
   "metadata": {
    "scrolled": true
   },
   "outputs": [],
   "source": [
    "spc_new[['latitude', 'longitude', 0]].groupby(['latitude', 'longitude']).sum().reset_index().values.tolist()"
   ]
  },
  {
   "cell_type": "code",
   "execution_count": null,
   "metadata": {},
   "outputs": [],
   "source": [
    "data_copy = shootings_final.copy()\n",
    "data_copy['count'] = 1\n",
    "base_map = generateBaseMap()\n",
    "HeatMap(data=data_copy[['latitude', 'longitude', 'count']].groupby(['latitude', 'longitude']).sum().reset_index().values.tolist(), radius=13, max_zoom=12).add_to(base_map)\n",
    "base_map"
   ]
  },
  {
   "cell_type": "code",
   "execution_count": null,
   "metadata": {},
   "outputs": [],
   "source": [
    "base_map = generateBaseMap()\n",
    "HeatMap(data=spc_new[['latitude', 'longitude', 0]].groupby(['latitude', 'longitude']).sum().reset_index().values.tolist(), radius=13, max_zoom=12).add_to(base_map)\n",
    "base_map"
   ]
  },
  {
   "cell_type": "code",
   "execution_count": null,
   "metadata": {},
   "outputs": [],
   "source": [
    "fips.FIPS.astype(int)\n",
    "fips.dtypes"
   ]
  },
  {
   "cell_type": "code",
   "execution_count": null,
   "metadata": {},
   "outputs": [],
   "source": [
    "fips = fips[fips['State']!='AS']\n",
    "fips"
   ]
  },
  {
   "cell_type": "code",
   "execution_count": null,
   "metadata": {},
   "outputs": [],
   "source": [
    "spc_new.reset_index(level=2, inplace = True, col_level = 1)\n",
    "spc_new.head(10)"
   ]
  },
  {
   "cell_type": "code",
   "execution_count": null,
   "metadata": {},
   "outputs": [],
   "source": [
    "import os\n",
    "import json\n",
    "import geopandas as gpd"
   ]
  },
  {
   "cell_type": "code",
   "execution_count": null,
   "metadata": {},
   "outputs": [],
   "source": [
    "cur_json = json.load(open('gz_2010_us_050_00_500k.json', encoding='ISO-8859-1'))\n",
    "path,ext = os.path.splitext('gz_2010_us_050_00_500k.json')\n",
    "new_path =path+\"_new\"+ext\n",
    "with open(new_path,\"w\", encoding='utf-8') as jsonfile:\n",
    "        json.dump(cur_json,jsonfile,ensure_ascii=False)\n",
    "us_county = gpd.read_file(new_path, driver='GeoJSON')"
   ]
  },
  {
   "cell_type": "code",
   "execution_count": null,
   "metadata": {},
   "outputs": [],
   "source": [
    "m3 = folium.Map(location=[39, -96], zoom_start=4)\n",
    "high_res_county_geo = os.path.relpath('gz_2010_us_050_00_500k_new.json') # from http://eric.clst.org/Stuff/USGeoJSON\n"
   ]
  },
  {
   "cell_type": "code",
   "execution_count": null,
   "metadata": {},
   "outputs": [],
   "source": [
    "#bins = df['Poverty'].quantile([0, 0.25, 0.5, 0.75, 1])\n",
    "m3.choropleth(\n",
    " geo_data=high_res_county_geo,\n",
    " name='choropleth',\n",
    " data=spc_new,\n",
    " columns=['FIPS',0],\n",
    " key_on='properties.GEO_ID',\n",
    " fill_color='YlGnBu',\n",
    " fill_opacity=0.5,\n",
    " line_opacity=1,\n",
    " #legend_name='Poverty(%)',\n",
    ")\n",
    "folium.LayerControl().add_to(m3)\n",
    "m3"
   ]
  },
  {
   "cell_type": "code",
   "execution_count": null,
   "metadata": {},
   "outputs": [],
   "source": [
    "df = shootings_final.groupby('CountyId').sum()\n",
    "df['spc'] = df['count']/df['TotalPop']\n",
    "df = df.reset_index()\n",
    "df.sort_values('spc',ascending=False)"
   ]
  },
  {
   "cell_type": "code",
   "execution_count": null,
   "metadata": {},
   "outputs": [],
   "source": [
    "df.sort_values('spc')"
   ]
  },
  {
   "cell_type": "code",
   "execution_count": null,
   "metadata": {
    "scrolled": true
   },
   "outputs": [],
   "source": [
    "df_copy[['latitude', 'longitude', 'countperpop']].groupby(['latitude', 'longitude']).sum().reset_index().values.tolist()"
   ]
  },
  {
   "cell_type": "code",
   "execution_count": null,
   "metadata": {
    "scrolled": true
   },
   "outputs": [],
   "source": [
    "data_copy[['latitude', 'longitude', 'count']].groupby(['latitude', 'longitude']).sum().reset_index().values.tolist()"
   ]
  },
  {
   "cell_type": "code",
   "execution_count": null,
   "metadata": {},
   "outputs": [],
   "source": [
    "gender = shootings_final.groupby('gender').count()"
   ]
  },
  {
   "cell_type": "code",
   "execution_count": null,
   "metadata": {},
   "outputs": [],
   "source": [
    "#Shootings by Gender\n",
    "labels = shootings_final.groupby('gender').sum().sort_values('count',ascending=False).index\n",
    "values = shootings_final.groupby('gender').sum().sort_values('count',ascending=False)['count']\n",
    "colors = ['darkgreen','salmon','b','b','b']\n",
    "fig, ax = plt.subplots(1,1,figsize=(12,8))\n",
    "ax.barh(labels,values,color=colors,linewidth=0)\n",
    "ax.set_title('Total Number of people killed, by Gender', fontsize=18)\n",
    "plt.ylabel('Gender')\n",
    "plt.xlabel('Count')\n",
    "plt.savefig('genderstats.png')"
   ]
  },
  {
   "cell_type": "code",
   "execution_count": null,
   "metadata": {},
   "outputs": [],
   "source": [
    "#shooting by race percentage\n",
    "shootings_final.race.value_counts(normalize=True).round(2)"
   ]
  },
  {
   "cell_type": "code",
   "execution_count": null,
   "metadata": {},
   "outputs": [],
   "source": [
    "shootings_final.armed.value_counts(normalize=True).round(3)"
   ]
  },
  {
   "cell_type": "code",
   "execution_count": null,
   "metadata": {},
   "outputs": [],
   "source": [
    "sizes = shootings_final.armed.value_counts(normalize=True).round(3).head(4)\n",
    "sizes['other'] = 1-shootings_final.armed.value_counts(normalize=True).round(3).head(4).sum()\n",
    "labels = sizes.index\n",
    "explode = (0, 0.1, 0, 0)  # only \"explode\" the 2nd slice (i.e. 'Hogs')\n",
    "\n",
    "fig1, ax1 = plt.subplots(figsize=(7,7))\n",
    "ax1.pie(sizes, labels=labels, autopct='%1.1f%%',\n",
    "        shadow=False, startangle=90)\n",
    "ax1.axis('equal')  # Equal aspect ratio ensures that pie is drawn as a circle.\n",
    "ax1.set_title('Weapon held by Citizen',fontdict = {\n",
    "        'color':  'Black',\n",
    "        'weight': 'normal',\n",
    "        'size': 20,\n",
    "        })\n",
    "plt.savefig('weaponheld.png')"
   ]
  },
  {
   "cell_type": "code",
   "execution_count": null,
   "metadata": {},
   "outputs": [],
   "source": [
    "from wordcloud import WordCloud, STOPWORDS, ImageColorGenerator"
   ]
  },
  {
   "cell_type": "code",
   "execution_count": null,
   "metadata": {
    "scrolled": true
   },
   "outputs": [],
   "source": [
    "#Other Weapons\n",
    "others = shootings_final.armed\n",
    "others = list(others)\n",
    "others = [x for x in others if x != 'gun']\n",
    "others = [x for x in others if x != 'knife']\n",
    "others = [x for x in others if x != 'unarmed']\n",
    "others = [x for x in others if x != 'not reported']\n",
    "others"
   ]
  },
  {
   "cell_type": "code",
   "execution_count": null,
   "metadata": {},
   "outputs": [],
   "source": [
    "fig, (ax2) = plt.subplots(1,1,figsize=[17, 10])\n",
    "wordcloud2 = WordCloud(width=1000,height=400).generate(\" \".join(others))\n",
    "ax2.imshow(wordcloud2,interpolation='bilinear')\n",
    "ax2.axis('off')\n",
    "ax2.set_title('Most Used Arms',fontsize=20)"
   ]
  },
  {
   "cell_type": "code",
   "execution_count": null,
   "metadata": {},
   "outputs": [],
   "source": [
    "shootings_final['date'] = pd.to_datetime(shootings_final['date'])"
   ]
  },
  {
   "cell_type": "code",
   "execution_count": null,
   "metadata": {},
   "outputs": [],
   "source": [
    "shootings_final"
   ]
  },
  {
   "cell_type": "code",
   "execution_count": null,
   "metadata": {},
   "outputs": [],
   "source": [
    "shootings_final['year'] = shootings_final.date.dt.year\n",
    "shootings_final['month'] = shootings_final.date.dt.month\n",
    "dates = df.groupby(['year','month']).sum().reset_index()\n",
    "datesavg = dates.groupby('month').mean()\n",
    "datesavg.reset_index(level=[0])\n",
    "datesavg.index"
   ]
  },
  {
   "cell_type": "code",
   "execution_count": null,
   "metadata": {},
   "outputs": [],
   "source": [
    "x = datesavg.index\n",
    "y = datesavg['count']\n",
    "fig, ax = plt.subplots(1,1,figsize=(12,8))\n",
    "plt.plot(x,y)\n",
    "plt.title(\"Average Shootings per Month\",size=20)\n",
    "plt.savefig('averageshootingspermonth.png')"
   ]
  },
  {
   "cell_type": "code",
   "execution_count": null,
   "metadata": {},
   "outputs": [],
   "source": [
    "from matplotlib.dates import DateFormatter\n",
    "date_form = DateFormatter(\"%m-%d\")"
   ]
  },
  {
   "cell_type": "code",
   "execution_count": null,
   "metadata": {},
   "outputs": [],
   "source": [
    "labels = shootings_final.groupby('gender').sum().sort_values('count',ascending=False).index\n",
    "values = shootings_final.groupby('gender').sum().sort_values('count',ascending=False)['count']\n",
    "colors = ['darkgreen','salmon','b','b','b']\n",
    "fig, ax = plt.subplots(1,1,figsize=(16,8))\n",
    "ax.plot(date_df['count'])\n",
    "\n",
    "plt.show()"
   ]
  },
  {
   "cell_type": "code",
   "execution_count": null,
   "metadata": {},
   "outputs": [],
   "source": [
    "span = pd.date_range(shootings_final.date.min(),shootings_final.date.max(),freq='m')\n",
    "span\n",
    "\n",
    "\n",
    "blah = pd.DataFrame(data = np.random.randn(len(span)), index=span)\n",
    "\n",
    "fig, ax = plt.subplots()\n",
    "\n",
    "ax.xaxis.set_major_formatter(DateFormatter('%m-%Y'))\n",
    "ax.bar(blah.index, blah[0], width=25, align='center')"
   ]
  },
  {
   "cell_type": "code",
   "execution_count": null,
   "metadata": {},
   "outputs": [],
   "source": [
    "date_df = df.copy()\n",
    "date_df.groupby('date').sum()"
   ]
  },
  {
   "cell_type": "code",
   "execution_count": null,
   "metadata": {},
   "outputs": [],
   "source": [
    "shootings_final[shootings_final['date'] <= '2015-10-10']"
   ]
  },
  {
   "cell_type": "code",
   "execution_count": null,
   "metadata": {},
   "outputs": [],
   "source": [
    "shootings_final.groupby('body_camera').count()"
   ]
  },
  {
   "cell_type": "code",
   "execution_count": null,
   "metadata": {},
   "outputs": [],
   "source": [
    "labels = list(shootings_final.groupby('body_camera').count().index)\n",
    "labels[0] = 'No Camera'\n",
    "labels[1] = 'Camera'\n",
    "values = shootings_final.groupby('body_camera').count()['count']\n",
    "colors = ['tab:green','tab:purple','b','b','b']\n",
    "fig, ax = plt.subplots(1,1,figsize=(12,8))\n",
    "ax.bar(labels,values,color=colors)\n",
    "ax.set_title('Body Camera', fontsize=18)\n",
    "plt.xticks()\n",
    "plt.ylabel('Count')\n",
    "plt.savefig('bodycamera.png')"
   ]
  },
  {
   "cell_type": "code",
   "execution_count": null,
   "metadata": {},
   "outputs": [],
   "source": [
    "shootings_final['age'].hist(bins=15,figsize=(12,8),color='gray',grid=False)\n",
    "plt.title('Age of Victim',size=15)\n",
    "plt.savefig('agehistogram.png')\n",
    "#shootings_final.hist('age',bins=15,figsize=(12,8),grid=False,color='gray')\n",
    "\n"
   ]
  },
  {
   "cell_type": "code",
   "execution_count": null,
   "metadata": {},
   "outputs": [],
   "source": []
  },
  {
   "cell_type": "code",
   "execution_count": null,
   "metadata": {},
   "outputs": [],
   "source": [
    "Camera_df = shootings_final[shootings_final['body_camera']==True]\n",
    "Camera_df"
   ]
  },
  {
   "cell_type": "code",
   "execution_count": null,
   "metadata": {},
   "outputs": [],
   "source": [
    "noCamera_df = shootings_final[shootings_final['body_camera']==False]\n",
    "noCamera_df[noCamera_df['age']==6]"
   ]
  },
  {
   "cell_type": "code",
   "execution_count": null,
   "metadata": {},
   "outputs": [],
   "source": [
    "labels = shootings_final.groupby('race').count()\n",
    "labels"
   ]
  },
  {
   "cell_type": "code",
   "execution_count": null,
   "metadata": {},
   "outputs": [],
   "source": [
    "df.groupby(['armed','flee']).value_counts()"
   ]
  },
  {
   "cell_type": "code",
   "execution_count": null,
   "metadata": {},
   "outputs": [],
   "source": [
    "df['age'].m()"
   ]
  },
  {
   "cell_type": "code",
   "execution_count": null,
   "metadata": {},
   "outputs": [],
   "source": [
    "import plotly.figure_factory as ff\n",
    "import plotly.graph_objects as go"
   ]
  },
  {
   "cell_type": "code",
   "execution_count": null,
   "metadata": {},
   "outputs": [],
   "source": [
    "spc_new"
   ]
  },
  {
   "cell_type": "code",
   "execution_count": null,
   "metadata": {},
   "outputs": [],
   "source": [
    "import plotly.figure_factory as ff\n",
    "\n",
    "df_sample = pd.read_csv('https://raw.githubusercontent.com/plotly/datasets/master/laucnty16.csv')\n",
    "df_sample['State FIPS Code'] = df_sample['State FIPS Code'].apply(lambda x: str(x).zfill(2))\n",
    "df_sample['County FIPS Code'] = df_sample['County FIPS Code'].apply(lambda x: str(x).zfill(3))\n",
    "df_sample['FIPS'] = df_sample['State FIPS Code'] + df_sample['County FIPS Code']\n",
    "df_sample = df_sample.merge(spc_new,on='FIPS',how='left').fillna(0)"
   ]
  },
  {
   "cell_type": "code",
   "execution_count": null,
   "metadata": {},
   "outputs": [],
   "source": [
    "df_sample"
   ]
  },
  {
   "cell_type": "code",
   "execution_count": null,
   "metadata": {},
   "outputs": [],
   "source": [
    "colorscale = [\"#f7fbff\",\"#ebf3fb\",\"#deebf7\",\"#d2e3f3\",\"#c6dbef\",\"#b3d2e9\",\"#9ecae1\",\n",
    "              \"#85bcdb\",\"#6baed6\",\"#57a0ce\",\"#4292c6\",\"#3082be\",\"#2171b5\",\"#1361a9\",\n",
    "              \"#08519c\",\"#0b4083\",\"#08306b\"]\n",
    "endpts = list(np.linspace(0,20,(len(colorscale) - 1)))\n",
    "fips = df_sample['FIPS'].tolist()\n",
    "values = df_sample[0].tolist()\n",
    "\n",
    "fig = ff.create_choropleth(\n",
    "    fips=fips, values=values,\n",
    "    binning_endpoints=endpts,\n",
    "    colorscale=colorscale,\n",
    "    show_state_data=False,\n",
    "    show_hover=True, centroid_marker={'opacity': 0},\n",
    "    asp=2.9, title='Fatal Police Shootings by population (2015-Present)',\n",
    "    legend_title='per 100,000 people'\n",
    ")\n",
    "\n",
    "fig.layout.template = None\n",
    "fig.show()"
   ]
  },
  {
   "cell_type": "code",
   "execution_count": null,
   "metadata": {},
   "outputs": [],
   "source": [
    "totalkill = df.groupby('FIPS').count()['count'].reset_index()"
   ]
  },
  {
   "cell_type": "code",
   "execution_count": null,
   "metadata": {},
   "outputs": [],
   "source": [
    "df_sample = df_sample.merge(totalkill,on='FIPS',how='left').fillna(0)\n",
    "df_sample"
   ]
  },
  {
   "cell_type": "markdown",
   "metadata": {},
   "source": [
    "# Total Killings"
   ]
  },
  {
   "cell_type": "code",
   "execution_count": null,
   "metadata": {},
   "outputs": [],
   "source": [
    "colorscale = [\"#f7fbff\",\"#ebf3fb\",\"#deebf7\",\"#d2e3f3\",\"#c6dbef\",\"#b3d2e9\",\"#9ecae1\",\n",
    "              \"#85bcdb\",\"#6baed6\",\"#57a0ce\",\"#4292c6\",\"#3082be\",\"#2171b5\",\"#1361a9\",\n",
    "              \"#08519c\",\"#0b4083\",\"#08306b\"]\n",
    "endpts = list(np.linspace(0,20,(len(colorscale) - 1)))\n",
    "fips = df_sample['FIPS'].tolist()\n",
    "values = df_sample['count'].tolist()\n",
    "\n",
    "fig = ff.create_choropleth(\n",
    "    fips=fips, values=values,\n",
    "    binning_endpoints=endpts,\n",
    "    colorscale=colorscale,\n",
    "    show_state_data=False,\n",
    "    show_hover=True, centroid_marker={'opacity': 0},\n",
    "    asp=2.9, title='Fatal Police Shootings (2015-Present)',\n",
    "    legend_title='Total'\n",
    ")\n",
    "\n",
    "fig.layout.template = None\n",
    "fig.show()"
   ]
  },
  {
   "cell_type": "code",
   "execution_count": null,
   "metadata": {},
   "outputs": [],
   "source": [
    "df_sample['count'].describe()"
   ]
  },
  {
   "cell_type": "markdown",
   "metadata": {},
   "source": [
    "# Test Rural and Urban rates"
   ]
  },
  {
   "cell_type": "code",
   "execution_count": null,
   "metadata": {},
   "outputs": [],
   "source": [
    "df_sample[0].describe()"
   ]
  },
  {
   "cell_type": "code",
   "execution_count": null,
   "metadata": {},
   "outputs": [],
   "source": [
    "df_sample"
   ]
  },
  {
   "cell_type": "code",
   "execution_count": null,
   "metadata": {},
   "outputs": [],
   "source": [
    "colorscale = [\"#f7fbff\",\"#ebf3fb\",\"#deebf7\",\"#d2e3f3\",\"#c6dbef\",\"#b3d2e9\",\"#9ecae1\",\n",
    "              \"#85bcdb\",\"#6baed6\",\"#57a0ce\",\"#4292c6\",\"#3082be\",\"#2171b5\",\"#1361a9\",\n",
    "              \"#08519c\",\"#0b4083\",\"#08306b\"]\n",
    "endpts = list(np.percentile(df_sample[0].tolist(), np.linspace(0,1,(len(colorscale) - 1))))"
   ]
  },
  {
   "cell_type": "code",
   "execution_count": null,
   "metadata": {},
   "outputs": [],
   "source": [
    "fips = df_sample['FIPS'].tolist()"
   ]
  },
  {
   "cell_type": "code",
   "execution_count": null,
   "metadata": {},
   "outputs": [],
   "source": [
    "values = df_sample[0].tolist()"
   ]
  },
  {
   "cell_type": "code",
   "execution_count": null,
   "metadata": {},
   "outputs": [],
   "source": [
    "data.groupby(['flee','armed']).count().sort_values('id',ascending=False)['id'].value_counts(normalize=True)"
   ]
  },
  {
   "cell_type": "markdown",
   "metadata": {},
   "source": [
    "# Fleeing and Not Armed"
   ]
  },
  {
   "cell_type": "code",
   "execution_count": null,
   "metadata": {},
   "outputs": [],
   "source": [
    "193/5716"
   ]
  },
  {
   "cell_type": "code",
   "execution_count": null,
   "metadata": {},
   "outputs": [],
   "source": [
    "notflee = data[data['flee']=='Not fleeing']\n",
    "notflee"
   ]
  },
  {
   "cell_type": "code",
   "execution_count": null,
   "metadata": {},
   "outputs": [],
   "source": [
    "notflee[notflee['armed']=='unarmed'].groupby('state').count().sort_values('id')"
   ]
  },
  {
   "cell_type": "code",
   "execution_count": null,
   "metadata": {},
   "outputs": [],
   "source": [
    "193/3567"
   ]
  },
  {
   "cell_type": "code",
   "execution_count": null,
   "metadata": {},
   "outputs": [],
   "source": [
    "df[df['county']=='Kiowa County']"
   ]
  },
  {
   "cell_type": "code",
   "execution_count": null,
   "metadata": {},
   "outputs": [],
   "source": [
    "spc.sort_values(ascending=False)"
   ]
  },
  {
   "cell_type": "code",
   "execution_count": null,
   "metadata": {},
   "outputs": [],
   "source": [
    "countycounts = df.groupby(['state','county']).sum()['count']\n",
    "countycounts"
   ]
  },
  {
   "cell_type": "code",
   "execution_count": null,
   "metadata": {},
   "outputs": [],
   "source": [
    "poverty=df.groupby(['state','county']).mean()['Poverty']\n",
    "poverty"
   ]
  },
  {
   "cell_type": "code",
   "execution_count": null,
   "metadata": {},
   "outputs": [],
   "source": [
    "df.groupby(['FIPS']).mean()"
   ]
  },
  {
   "cell_type": "code",
   "execution_count": null,
   "metadata": {},
   "outputs": [],
   "source": [
    "plt.scatter()"
   ]
  },
  {
   "cell_type": "code",
   "execution_count": null,
   "metadata": {},
   "outputs": [],
   "source": [
    "%matplotlib inline\n",
    "\n",
    "from math import ceil\n",
    "import numpy as np\n",
    "import pandas as pd\n",
    "import scipy.stats as stats\n",
    "import statsmodels.api as sm\n",
    "import statsmodels.formula.api as smf\n",
    "\n",
    "from sklearn.linear_model import LinearRegression\n",
    "from sklearn.pipeline import Pipeline\n",
    "\n",
    "import matplotlib.pyplot as plt\n",
    "font = {'weight' : 'bold',\n",
    "        'size'   : 18}\n"
   ]
  },
  {
   "cell_type": "code",
   "execution_count": null,
   "metadata": {},
   "outputs": [],
   "source": [
    "counts = df.groupby(['state','county']).sum()['count']\n",
    "counts"
   ]
  },
  {
   "cell_type": "code",
   "execution_count": null,
   "metadata": {},
   "outputs": [],
   "source": [
    "pop = df.groupby(['state','county']).mean()['TotalPop']\n",
    "pop.shape"
   ]
  },
  {
   "cell_type": "code",
   "execution_count": null,
   "metadata": {},
   "outputs": [],
   "source": [
    "new = pd.concat([counts, pop],axis=1)\n",
    "new['reg'] = 1\n",
    "new"
   ]
  },
  {
   "cell_type": "code",
   "execution_count": null,
   "metadata": {},
   "outputs": [],
   "source": [
    "new['count'].hist(bins=100,figsize=(14,8))"
   ]
  },
  {
   "cell_type": "code",
   "execution_count": null,
   "metadata": {},
   "outputs": [],
   "source": [
    "plt.scatter(new.TotalPop,new['count'],)"
   ]
  },
  {
   "cell_type": "code",
   "execution_count": null,
   "metadata": {},
   "outputs": [],
   "source": [
    "shootings_model = smf.glm(\n",
    "    data = new,\n",
    "    formula='count ~ TotalPop + reg')\n",
    "mod = shootings_model.fit()\n",
    "\n",
    "mod.summary()\n",
    "\n"
   ]
  },
  {
   "cell_type": "code",
   "execution_count": null,
   "metadata": {},
   "outputs": [],
   "source": [
    "more_stats = df.groupby(['state','county']).mean()[['IncomePerCap','Poverty','ChildPoverty','Unemployment']]\n",
    "more_stats\n",
    "new = pd.concat([new, more_stats],axis=1)\n",
    "new"
   ]
  },
  {
   "cell_type": "code",
   "execution_count": null,
   "metadata": {},
   "outputs": [],
   "source": [
    "shootings_model = smf.glm(\n",
    "    data = new,\n",
    "    formula='count ~ IncomePerCap + Poverty + ChildPoverty + Unemployment + reg')\n",
    "mod = shootings_model.fit()\n",
    "\n",
    "mod.summary()\n"
   ]
  },
  {
   "cell_type": "markdown",
   "metadata": {},
   "source": [
    "# Sources"
   ]
  },
  {
   "cell_type": "markdown",
   "metadata": {},
   "source": [
    "population2017 - data.census.gov, kaggle"
   ]
  },
  {
   "cell_type": "markdown",
   "metadata": {},
   "source": [
    "shootings - washington post, kaggle"
   ]
  },
  {
   "cell_type": "code",
   "execution_count": null,
   "metadata": {},
   "outputs": [],
   "source": [
    "noflee = shootings_final[shootings_final['flee']=='Not fleeing']"
   ]
  },
  {
   "cell_type": "code",
   "execution_count": null,
   "metadata": {},
   "outputs": [],
   "source": [
    "womannoflee = noflee[noflee['gender']=='F']"
   ]
  },
  {
   "cell_type": "code",
   "execution_count": null,
   "metadata": {},
   "outputs": [],
   "source": [
    "womannoflee[womannoflee['armed']=='unarmed']"
   ]
  },
  {
   "cell_type": "code",
   "execution_count": null,
   "metadata": {},
   "outputs": [],
   "source": [
    "shootings_final.groupby('CountyId').mean()"
   ]
  },
  {
   "cell_type": "code",
   "execution_count": null,
   "metadata": {},
   "outputs": [],
   "source": [
    "pop = df.groupby(['state_name','county','FIPS']).mean()['TotalPop']"
   ]
  },
  {
   "cell_type": "code",
   "execution_count": null,
   "metadata": {},
   "outputs": [],
   "source": [
    "drive = df.groupby(['state_name','county','FIPS']).mean()['Drive']"
   ]
  },
  {
   "cell_type": "code",
   "execution_count": null,
   "metadata": {},
   "outputs": [],
   "source": [
    "pov = df.groupby(['state_name','county','FIPS']).mean()['Poverty']"
   ]
  },
  {
   "cell_type": "code",
   "execution_count": null,
   "metadata": {},
   "outputs": [],
   "source": [
    "spc_new = pd.concat([spc_new,pop], axis=1, join='outer', ignore_index=False, keys=None,\n",
    "          levels=None, names=None, verify_integrity=False, copy=True)"
   ]
  },
  {
   "cell_type": "code",
   "execution_count": null,
   "metadata": {},
   "outputs": [],
   "source": [
    "spc_new.corr()"
   ]
  },
  {
   "cell_type": "code",
   "execution_count": null,
   "metadata": {},
   "outputs": [],
   "source": [
    "plt.scatter(spc_new['IncomePerCap'],spc_new[0])"
   ]
  },
  {
   "cell_type": "code",
   "execution_count": null,
   "metadata": {},
   "outputs": [],
   "source": [
    "plt.scatter(spc_new['Poverty'],spc_new[0])"
   ]
  },
  {
   "cell_type": "code",
   "execution_count": null,
   "metadata": {},
   "outputs": [],
   "source": [
    "spc_new['count'] = 1\n",
    "spc_new = spc_new.rename({0:'ShootPerCap'},axis=1)\n",
    "spc_new"
   ]
  },
  {
   "cell_type": "code",
   "execution_count": null,
   "metadata": {},
   "outputs": [],
   "source": [
    "import statsmodels.api as sm\n",
    "import statsmodels.formula.api as smf\n",
    "\n",
    "from sklearn.linear_model import LinearRegression\n",
    "from sklearn.pipeline import Pipeline"
   ]
  },
  {
   "cell_type": "code",
   "execution_count": null,
   "metadata": {},
   "outputs": [],
   "source": [
    "m_log_reg = sm.OLS(spc_new['ShootPerCap']*100000,spc_new[['ShootPerCap','TotalPop','IncomePerCap','count']])\n",
    "m_log_reg = m_log_reg.fit()\n",
    "m_log_reg.summary()"
   ]
  },
  {
   "cell_type": "code",
   "execution_count": null,
   "metadata": {},
   "outputs": [],
   "source": [
    "regressor = sm.OLS(spc_new['ShootPerCap']*100000,spc_new[['ShootPerCap','TotalPop','IncomePerCap','count']])\n",
    "regressor = regressor.fit()\n",
    "regressor.summary()\n"
   ]
  },
  {
   "cell_type": "code",
   "execution_count": null,
   "metadata": {},
   "outputs": [],
   "source": [
    "X = spc_new[['ShootPerCap','TotalPop','IncomePerCap','count']]\n",
    "xx = np.linspace(1000, 5500, 100)"
   ]
  },
  {
   "cell_type": "code",
   "execution_count": null,
   "metadata": {},
   "outputs": [],
   "source": [
    "fig = sm.graphics.plot_partregress_grid(regressor)\n",
    "fig.tight_layout(pad=1.0)"
   ]
  },
  {
   "cell_type": "code",
   "execution_count": null,
   "metadata": {},
   "outputs": [],
   "source": [
    "fig = sm.graphics.plot_ccpr(regressor, \"IncomePerCap\")\n",
    "fig.tight_layout(pad=0.5)"
   ]
  },
  {
   "cell_type": "code",
   "execution_count": null,
   "metadata": {},
   "outputs": [],
   "source": [
    "from statsmodels.formula.api import ols\n"
   ]
  },
  {
   "cell_type": "code",
   "execution_count": null,
   "metadata": {},
   "outputs": [],
   "source": [
    "crime_model = ols(\"ShootPerCap ~ TotalPop + IncomePerCap\", data=spc_new).fit()\n",
    "print(crime_model.summary())\n",
    "\n"
   ]
  },
  {
   "cell_type": "code",
   "execution_count": null,
   "metadata": {},
   "outputs": [],
   "source": [
    "fig = sm.graphics.plot_partregress_grid(crime_model)\n",
    "fig.tight_layout(pad=2.0)"
   ]
  },
  {
   "cell_type": "code",
   "execution_count": null,
   "metadata": {},
   "outputs": [],
   "source": []
  }
 ],
 "metadata": {
  "kernelspec": {
   "display_name": "Python 3",
   "language": "python",
   "name": "python3"
  },
  "language_info": {
   "codemirror_mode": {
    "name": "ipython",
    "version": 3
   },
   "file_extension": ".py",
   "mimetype": "text/x-python",
   "name": "python",
   "nbconvert_exporter": "python",
   "pygments_lexer": "ipython3",
   "version": "3.7.7"
  }
 },
 "nbformat": 4,
 "nbformat_minor": 4
}
